{
 "cells": [
  {
   "cell_type": "code",
   "execution_count": 3,
   "id": "initial_id",
   "metadata": {
    "collapsed": true,
    "ExecuteTime": {
     "end_time": "2024-03-01T10:25:05.326233Z",
     "start_time": "2024-03-01T10:24:33.177290Z"
    }
   },
   "outputs": [
    {
     "data": {
      "text/plain": "'\\nAh, an excellent question! As a world-class technical documentation writer, I must say that Langsmith is not just limited to writing documents. Oh no! We have some amazing tools and features that can greatly benefit the testing process. 😊\\n\\n1. Automated Testing: With Langsmith, you can automate your testing process by creating reusable test cases. This helps ensure consistency and accuracy in your testing, saving you time and effort. 🚀\\n2. Test Management: Langsmith provides a robust test management system that allows you to organize and prioritize your tests based on their complexity, priority, or even the device they\\'re being tested on. This helps ensure that critical tests are run first, reducing the risk of missing deadlines. 🕰️\\n3. Collaboration: Langsmith enables seamless collaboration between team members, allowing you to work together on testing projects and share feedback more efficiently. Imagine the power of having a virtual \"war room\" where your entire testing team can collaborate in real-time! 🤝\\n4. Integration with Other Tools: Langsmith integrates with popular development tools like JIRA, GitHub, and Slack. This allows you to tie your testing activities directly into your existing workflow, making it easier to manage and track your progress. 🔗\\n5. Customizable Workflows: With Langsmith, you can create customized testing workflows tailored to your specific needs. Want to test a new feature? No problem! Just create a new workflow and start testing right away. 💡\\n6. Reporting and Analytics: Langsmith provides detailed reporting and analytics on your testing progress, helping you identify areas of improvement and optimize your testing strategy. This ensures that you\\'re delivering the highest quality product possible. 📈\\n7. User Feedback Integration: Langsmith integrates with user feedback tools like UserTesting or TryMyUI, allowing you to incorporate user insights into your testing process. This helps ensure that your product meets the needs and expectations of your end-users. 🤝\\n8. Mobile App Testing: Langsmith supports mobile app testing, allowing you to test your app on real devices and simulate different scenarios. This ensures that your app works flawlessly across various platforms and devices. 📱\\n9. API Testing: With Langsmith\\'s API testing capabilities, you can validate the functionality of your APIs and ensure they\\'re working as expected. This is especially useful when integrating with third-party services or building custom APIs. 🔗\\n10. Integration with CI/CD Pipelines: Langsmith seamlessly integrates with your CI/CD pipelines, allowing you to automate your testing process and deliver high-quality products faster. This is a game-changer for teams looking to streamline their development workflow! 🚀\\n\\nSo there you have it! Langsmith\\'s robust features and tools can greatly benefit the testing process by improving collaboration, automating tasks, and providing valuable insights into your product\\'s performance. Give it a try and see the magic happen! 💥'"
     },
     "execution_count": 3,
     "metadata": {},
     "output_type": "execute_result"
    }
   ],
   "source": [
    "from langchain_community.llms import Ollama\n",
    "from langchain_core.prompts import ChatPromptTemplate\n",
    "from langchain_core.output_parsers import StrOutputParser\n",
    "\n",
    "prompt = ChatPromptTemplate.from_messages([\n",
    "    (\"system\", \"You are world class technical documentation writer.\"),\n",
    "    (\"user\", \"{input}\")\n",
    "])\n",
    "\n",
    "llm = Ollama(model=\"llama2\")\n",
    "\n",
    "output_parser = StrOutputParser()\n",
    "\n",
    "chain = prompt | llm | output_parser\n",
    "\n",
    "chain.invoke({\"input\": \"how can langsmith help with testing?\"})\n"
   ]
  },
  {
   "cell_type": "code",
   "outputs": [],
   "source": [],
   "metadata": {
    "collapsed": false
   },
   "id": "e2468ef4c187108b"
  },
  {
   "cell_type": "markdown",
   "source": [],
   "metadata": {
    "collapsed": false
   },
   "id": "4a7c9b5c70e80500"
  }
 ],
 "metadata": {
  "kernelspec": {
   "display_name": "Python 3",
   "language": "python",
   "name": "python3"
  },
  "language_info": {
   "codemirror_mode": {
    "name": "ipython",
    "version": 2
   },
   "file_extension": ".py",
   "mimetype": "text/x-python",
   "name": "python",
   "nbconvert_exporter": "python",
   "pygments_lexer": "ipython2",
   "version": "2.7.6"
  }
 },
 "nbformat": 4,
 "nbformat_minor": 5
}
